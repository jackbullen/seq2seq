{
 "cells": [
  {
   "cell_type": "code",
   "execution_count": 24,
   "metadata": {},
   "outputs": [],
   "source": [
    "from random import seed\n",
    "from random import randint\n",
    "from numpy import array\n",
    "from math import ceil\n",
    "from math import log10\n",
    "from math import sqrt\n",
    "from numpy import argmax\n",
    "from keras.models import Sequential\n",
    "from keras.layers import Dense\n",
    "from keras.layers import LSTM\n",
    "from keras.layers import TimeDistributed\n",
    "from keras.layers import RepeatVector"
   ]
  },
  {
   "cell_type": "code",
   "execution_count": 25,
   "metadata": {},
   "outputs": [],
   "source": [
    "# generate lists of random integers and their sum\n",
    "def random_sum_pairs(n_examples, n_numbers, largest):\n",
    "    X, y = [], []\n",
    "    for i in range(n_examples):\n",
    "        in_pattern = [randint(1,largest) for _ in range(n_numbers)]\n",
    "        out_pattern = sum(in_pattern)\n",
    "        X.append(in_pattern)\n",
    "        y.append(out_pattern)\n",
    "    return X, y"
   ]
  },
  {
   "cell_type": "code",
   "execution_count": 26,
   "metadata": {},
   "outputs": [
    {
     "data": {
      "text/plain": [
       "([[90, 62], [52, 21], [68, 29], [59, 43], [52, 60]], [152, 73, 97, 102, 112])"
      ]
     },
     "execution_count": 26,
     "metadata": {},
     "output_type": "execute_result"
    }
   ],
   "source": [
    "X, y = random_sum_pairs(5, 2, 100)\n",
    "\n",
    "X, y"
   ]
  },
  {
   "cell_type": "code",
   "execution_count": 27,
   "metadata": {},
   "outputs": [],
   "source": [
    "# convert data to strings\n",
    "def to_string(X, y, n_numbers, largest):\n",
    "    max_length = n_numbers * ceil(log10(largest+1)) + n_numbers - 1\n",
    "    Xstr = list()\n",
    "    for pattern in X:\n",
    "        strp = '+'.join([str(n) for n in pattern])\n",
    "        strp = ''.join([' ' for _ in range(max_length-len(strp))]) + strp\n",
    "        Xstr.append(strp)\n",
    "    max_length = ceil(log10(n_numbers * (largest+1)))\n",
    "    ystr = list()\n",
    "    for pattern in y:\n",
    "        strp = str(pattern)\n",
    "        strp = ''.join([' ' for _ in range(max_length-len(strp))]) + strp\n",
    "        ystr.append(strp)\n",
    "    return Xstr, ystr"
   ]
  },
  {
   "cell_type": "code",
   "execution_count": 28,
   "metadata": {},
   "outputs": [
    {
     "data": {
      "text/plain": [
       "(['  90+62', '  52+21', '  68+29', '  59+43', '  52+60'],\n",
       " ['152', ' 73', ' 97', '102', '112'])"
      ]
     },
     "execution_count": 28,
     "metadata": {},
     "output_type": "execute_result"
    }
   ],
   "source": [
    "X, y = to_string(X, y, 2, 100)\n",
    "\n",
    "X, y"
   ]
  },
  {
   "cell_type": "code",
   "execution_count": 29,
   "metadata": {},
   "outputs": [],
   "source": [
    "# integer encode strings\n",
    "def integer_encode(X, y, alphabet):\n",
    "    char_to_int = dict((c, i) for i, c in enumerate(alphabet))\n",
    "    Xenc = list()\n",
    "    for pattern in X:\n",
    "        integer_encoded = [char_to_int[char] for char in pattern]\n",
    "        Xenc.append(integer_encoded)\n",
    "    yenc = list()\n",
    "    for pattern in y:\n",
    "        integer_encoded = [char_to_int[char] for char in pattern]\n",
    "        yenc.append(integer_encoded)\n",
    "    return Xenc, yenc"
   ]
  },
  {
   "cell_type": "code",
   "execution_count": 30,
   "metadata": {},
   "outputs": [
    {
     "data": {
      "text/plain": [
       "['0', '1', '2', '3', '4', '5', '6', '7', '8', '9', '+', ' ']"
      ]
     },
     "execution_count": 30,
     "metadata": {},
     "output_type": "execute_result"
    }
   ],
   "source": [
    "alphabet = ['0', '1', '2', '3', '4', '5', '6', '7', '8', '9', '+', ' ']\n",
    "\n",
    "alphabet"
   ]
  },
  {
   "cell_type": "code",
   "execution_count": 31,
   "metadata": {},
   "outputs": [
    {
     "data": {
      "text/plain": [
       "([[11, 11, 9, 0, 10, 6, 2],\n",
       "  [11, 11, 5, 2, 10, 2, 1],\n",
       "  [11, 11, 6, 8, 10, 2, 9],\n",
       "  [11, 11, 5, 9, 10, 4, 3],\n",
       "  [11, 11, 5, 2, 10, 6, 0]],\n",
       " [[1, 5, 2], [11, 7, 3], [11, 9, 7], [1, 0, 2], [1, 1, 2]])"
      ]
     },
     "execution_count": 31,
     "metadata": {},
     "output_type": "execute_result"
    }
   ],
   "source": [
    "X, y = integer_encode(X, y, alphabet)\n",
    "\n",
    "X, y"
   ]
  },
  {
   "cell_type": "code",
   "execution_count": 32,
   "metadata": {},
   "outputs": [],
   "source": [
    "# one hot encode\n",
    "def one_hot_encode(X, y, max_int):\n",
    "    Xenc = []\n",
    "    for seq in X:\n",
    "        pattern = []\n",
    "        for index in seq:\n",
    "            vector = [0 for _ in range(max_int)]\n",
    "            vector[index] = 1\n",
    "            pattern.append(vector)\n",
    "        Xenc.append(pattern)\n",
    "    yenc = list()\n",
    "    for seq in y:\n",
    "        pattern = list()\n",
    "        for index in seq:\n",
    "            vector = [0 for _ in range(max_int)]\n",
    "            vector[index] = 1\n",
    "            pattern.append(vector)\n",
    "        yenc.append(pattern)\n",
    "    return Xenc, yenc"
   ]
  },
  {
   "cell_type": "code",
   "execution_count": 33,
   "metadata": {},
   "outputs": [
    {
     "data": {
      "text/plain": [
       "([[11, 11, 9, 0, 10, 6, 2],\n",
       "  [11, 11, 5, 2, 10, 2, 1],\n",
       "  [11, 11, 6, 8, 10, 2, 9],\n",
       "  [11, 11, 5, 9, 10, 4, 3],\n",
       "  [11, 11, 5, 2, 10, 6, 0]],\n",
       " [[1, 5, 2], [11, 7, 3], [11, 9, 7], [1, 0, 2], [1, 1, 2]])"
      ]
     },
     "execution_count": 33,
     "metadata": {},
     "output_type": "execute_result"
    }
   ],
   "source": [
    "X, y"
   ]
  },
  {
   "cell_type": "code",
   "execution_count": 34,
   "metadata": {},
   "outputs": [],
   "source": [
    "X, y = one_hot_encode(X, y, len(alphabet))"
   ]
  },
  {
   "cell_type": "code",
   "execution_count": 35,
   "metadata": {},
   "outputs": [],
   "source": [
    "# generate an encoded dataset\n",
    "def generate_data(n_samples, n_numbers, largest, alphabet):\n",
    "    # generate pairs\n",
    "    X, y = random_sum_pairs(n_samples, n_numbers, largest)\n",
    "    # convert to strings\n",
    "    X, y = to_string(X, y, n_numbers, largest)\n",
    "    # integer encode\n",
    "    X, y = integer_encode(X, y, alphabet)\n",
    "    # one hot encode\n",
    "    X, y = one_hot_encode(X, y, len(alphabet))\n",
    "    # return as numpy arrays\n",
    "    X, y = array(X), array(y)\n",
    "    return X, y"
   ]
  },
  {
   "cell_type": "code",
   "execution_count": 36,
   "metadata": {},
   "outputs": [],
   "source": [
    "# invert encoding\n",
    "def invert(seq, alphabet):\n",
    "    int_to_char = dict((i, c) for i, c in enumerate(alphabet))\n",
    "    strings = list()\n",
    "    for pattern in seq:\n",
    "        string = int_to_char[argmax(pattern)]\n",
    "        strings.append(string)\n",
    "    return ''.join(strings)"
   ]
  },
  {
   "cell_type": "code",
   "execution_count": 53,
   "metadata": {},
   "outputs": [
    {
     "name": "stdout",
     "output_type": "stream",
     "text": [
      "Model: \"sequential_6\"\n",
      "_________________________________________________________________\n",
      " Layer (type)                Output Shape              Param #   \n",
      "=================================================================\n",
      " lstm_12 (LSTM)              (None, 100)               45200     \n",
      "                                                                 \n",
      " repeat_vector_6 (RepeatVec  (None, 4, 100)            0         \n",
      " tor)                                                            \n",
      "                                                                 \n",
      " lstm_13 (LSTM)              (None, 4, 50)             30200     \n",
      "                                                                 \n",
      " time_distributed_6 (TimeDi  (None, 4, 12)             612       \n",
      " stributed)                                                      \n",
      "                                                                 \n",
      "=================================================================\n",
      "Total params: 76012 (296.92 KB)\n",
      "Trainable params: 76012 (296.92 KB)\n",
      "Non-trainable params: 0 (0.00 Byte)\n",
      "_________________________________________________________________\n",
      "None\n"
     ]
    }
   ],
   "source": [
    "# define dataset\n",
    "seed(1)\n",
    "n_samples = 1000\n",
    "n_numbers = 2\n",
    "largest = 1000\n",
    "alphabet = ['0', '1', '2', '3', '4', '5', '6', '7', '8', '9', '+', ' ']\n",
    "n_chars = len(alphabet)\n",
    "n_in_seq_length = n_numbers * ceil(log10(largest+1)) + n_numbers - 1\n",
    "n_out_seq_length = ceil(log10(n_numbers * (largest+1)))\n",
    "# define LSTM configuration\n",
    "n_batch = 10\n",
    "n_epoch = 30\n",
    "# create LSTM\n",
    "model = Sequential()\n",
    "model.add(LSTM(100, input_shape=(n_in_seq_length, n_chars)))\n",
    "model.add(RepeatVector(n_out_seq_length))\n",
    "model.add(LSTM(50, return_sequences=True))\n",
    "model.add(TimeDistributed(Dense(n_chars, activation='softmax')))\n",
    "model.compile(loss='categorical_crossentropy', optimizer='adam', metrics=['accuracy'])\n",
    "print(model.summary())\n"
   ]
  },
  {
   "cell_type": "code",
   "execution_count": 54,
   "metadata": {},
   "outputs": [
    {
     "name": "stdout",
     "output_type": "stream",
     "text": [
      "0\n"
     ]
    },
    {
     "name": "stdout",
     "output_type": "stream",
     "text": [
      "100/100 [==============================] - 2s 5ms/step - loss: 2.2564 - accuracy: 0.1963\n",
      "1\n",
      "100/100 [==============================] - 0s 4ms/step - loss: 1.9598 - accuracy: 0.1960\n",
      "2\n",
      "100/100 [==============================] - 0s 4ms/step - loss: 1.9340 - accuracy: 0.1928\n",
      "3\n",
      "100/100 [==============================] - 0s 4ms/step - loss: 1.9213 - accuracy: 0.2135\n",
      "4\n",
      "100/100 [==============================] - 0s 4ms/step - loss: 1.9186 - accuracy: 0.1975\n",
      "5\n",
      "100/100 [==============================] - 0s 4ms/step - loss: 1.9131 - accuracy: 0.2085\n",
      "6\n",
      "100/100 [==============================] - 0s 4ms/step - loss: 1.9198 - accuracy: 0.2030\n",
      "7\n",
      "100/100 [==============================] - 0s 4ms/step - loss: 1.8923 - accuracy: 0.2460\n",
      "8\n",
      "100/100 [==============================] - 0s 4ms/step - loss: 1.8631 - accuracy: 0.2700\n",
      "9\n",
      "100/100 [==============================] - 0s 4ms/step - loss: 1.8557 - accuracy: 0.2745\n",
      "10\n",
      "100/100 [==============================] - 0s 4ms/step - loss: 1.8564 - accuracy: 0.2783\n",
      "11\n",
      "100/100 [==============================] - 0s 4ms/step - loss: 1.8392 - accuracy: 0.2785\n",
      "12\n",
      "100/100 [==============================] - 0s 4ms/step - loss: 1.8390 - accuracy: 0.2752\n",
      "13\n",
      "100/100 [==============================] - 0s 4ms/step - loss: 1.8339 - accuracy: 0.2835\n",
      "14\n",
      "100/100 [==============================] - 0s 4ms/step - loss: 1.8381 - accuracy: 0.2867\n",
      "15\n",
      "100/100 [==============================] - 0s 4ms/step - loss: 1.8219 - accuracy: 0.2858\n",
      "16\n",
      "100/100 [==============================] - 0s 4ms/step - loss: 1.7937 - accuracy: 0.3058\n",
      "17\n",
      "100/100 [==============================] - 0s 4ms/step - loss: 1.7438 - accuracy: 0.3325\n",
      "18\n",
      "100/100 [==============================] - 0s 4ms/step - loss: 1.7102 - accuracy: 0.3417\n",
      "19\n",
      "100/100 [==============================] - 0s 4ms/step - loss: 1.6736 - accuracy: 0.3602\n",
      "20\n",
      "100/100 [==============================] - 0s 4ms/step - loss: 1.6570 - accuracy: 0.3620\n",
      "21\n",
      "100/100 [==============================] - 0s 4ms/step - loss: 1.6716 - accuracy: 0.3515\n",
      "22\n",
      "100/100 [==============================] - 0s 4ms/step - loss: 1.6166 - accuracy: 0.3775\n",
      "23\n",
      "100/100 [==============================] - 0s 4ms/step - loss: 1.5976 - accuracy: 0.3855\n",
      "24\n",
      "100/100 [==============================] - 0s 4ms/step - loss: 1.5815 - accuracy: 0.3997\n",
      "25\n",
      "100/100 [==============================] - 0s 4ms/step - loss: 1.5745 - accuracy: 0.3893\n",
      "26\n",
      "100/100 [==============================] - 0s 4ms/step - loss: 1.5436 - accuracy: 0.4025\n",
      "27\n",
      "100/100 [==============================] - 0s 4ms/step - loss: 1.5543 - accuracy: 0.4095\n",
      "28\n",
      "100/100 [==============================] - 0s 4ms/step - loss: 1.5231 - accuracy: 0.4115\n",
      "29\n",
      "100/100 [==============================] - 0s 4ms/step - loss: 1.5166 - accuracy: 0.4223\n"
     ]
    }
   ],
   "source": [
    "\n",
    "# train LSTM\n",
    "for i in range(n_epoch):\n",
    "    X, y = generate_data(n_samples, n_numbers, largest, alphabet)\n",
    "    print(i)\n",
    "    model.fit(X, y, epochs=1, batch_size=n_batch)\n",
    " \n"
   ]
  },
  {
   "cell_type": "code",
   "execution_count": 55,
   "metadata": {},
   "outputs": [
    {
     "name": "stdout",
     "output_type": "stream",
     "text": [
      "Expected= 510, Predicted= 666\n",
      "Expected= 838, Predicted= 866\n",
      "Expected=1602, Predicted=1588\n",
      "Expected=1236, Predicted=1238\n",
      "Expected=1670, Predicted=1688\n",
      "Expected= 349, Predicted= 666\n",
      "Expected=1365, Predicted=1368\n",
      "Expected=1336, Predicted=1338\n",
      "Expected= 833, Predicted= 119\n",
      "Expected=1405, Predicted=1488\n",
      "Expected= 811, Predicted= 866\n",
      "Expected=1648, Predicted=1688\n",
      "Expected=1016, Predicted=1009\n",
      "Expected= 933, Predicted=1999\n",
      "Expected=1015, Predicted=1009\n",
      "Expected=1522, Predicted=1588\n",
      "Expected=1068, Predicted=1109\n",
      "Expected= 996, Predicted= 999\n",
      "Expected=1606, Predicted=1688\n",
      "Expected=1616, Predicted=1588\n"
     ]
    }
   ],
   "source": [
    "# evaluate on some new patterns\n",
    "X, y = generate_data(n_samples, n_numbers, largest, alphabet)\n",
    "result = model.predict(X, batch_size=n_batch, verbose=0)\n",
    "# calculate error\n",
    "expected = [invert(x, alphabet) for x in y]\n",
    "predicted = [invert(x, alphabet) for x in result]\n",
    "# show some examples\n",
    "for i in range(20):\n",
    "    print('Expected=%s, Predicted=%s' % (expected[i], predicted[i]))"
   ]
  },
  {
   "cell_type": "code",
   "execution_count": 40,
   "metadata": {},
   "outputs": [
    {
     "data": {
      "text/plain": [
       "(array([[0, 0, 0, 0, 0, 0, 0, 0, 0, 0, 0, 1],\n",
       "        [0, 0, 0, 0, 0, 0, 0, 0, 0, 0, 0, 1],\n",
       "        [0, 0, 0, 0, 0, 0, 0, 0, 1, 0, 0, 0],\n",
       "        [0, 0, 0, 0, 0, 0, 0, 0, 0, 0, 1, 0],\n",
       "        [0, 0, 0, 0, 0, 1, 0, 0, 0, 0, 0, 0]]),\n",
       " array([[0, 1, 0, 0, 0, 0, 0, 0, 0, 0, 0, 0],\n",
       "        [0, 0, 0, 1, 0, 0, 0, 0, 0, 0, 0, 0]]))"
      ]
     },
     "execution_count": 40,
     "metadata": {},
     "output_type": "execute_result"
    }
   ],
   "source": [
    "X[0], y[0]"
   ]
  },
  {
   "cell_type": "code",
   "execution_count": 41,
   "metadata": {},
   "outputs": [
    {
     "data": {
      "text/plain": [
       "('  8+5', '13')"
      ]
     },
     "execution_count": 41,
     "metadata": {},
     "output_type": "execute_result"
    }
   ],
   "source": [
    "invert(X[0], alphabet), invert(y[0], alphabet)"
   ]
  },
  {
   "cell_type": "code",
   "execution_count": null,
   "metadata": {},
   "outputs": [],
   "source": []
  }
 ],
 "metadata": {
  "kernelspec": {
   "display_name": "Python 3",
   "language": "python",
   "name": "python3"
  },
  "language_info": {
   "codemirror_mode": {
    "name": "ipython",
    "version": 3
   },
   "file_extension": ".py",
   "mimetype": "text/x-python",
   "name": "python",
   "nbconvert_exporter": "python",
   "pygments_lexer": "ipython3",
   "version": "3.10.13"
  }
 },
 "nbformat": 4,
 "nbformat_minor": 2
}
