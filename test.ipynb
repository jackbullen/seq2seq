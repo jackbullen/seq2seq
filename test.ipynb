{
 "cells": [
  {
   "cell_type": "code",
   "execution_count": 2,
   "metadata": {},
   "outputs": [
    {
     "name": "stderr",
     "output_type": "stream",
     "text": [
      "2024-02-29 05:40:51.053773: I external/local_tsl/tsl/cuda/cudart_stub.cc:31] Could not find cuda drivers on your machine, GPU will not be used.\n",
      "2024-02-29 05:40:51.085834: E external/local_xla/xla/stream_executor/cuda/cuda_dnn.cc:9261] Unable to register cuDNN factory: Attempting to register factory for plugin cuDNN when one has already been registered\n",
      "2024-02-29 05:40:51.085882: E external/local_xla/xla/stream_executor/cuda/cuda_fft.cc:607] Unable to register cuFFT factory: Attempting to register factory for plugin cuFFT when one has already been registered\n",
      "2024-02-29 05:40:51.086916: E external/local_xla/xla/stream_executor/cuda/cuda_blas.cc:1515] Unable to register cuBLAS factory: Attempting to register factory for plugin cuBLAS when one has already been registered\n",
      "2024-02-29 05:40:51.092421: I external/local_tsl/tsl/cuda/cudart_stub.cc:31] Could not find cuda drivers on your machine, GPU will not be used.\n",
      "2024-02-29 05:40:51.093542: I tensorflow/core/platform/cpu_feature_guard.cc:182] This TensorFlow binary is optimized to use available CPU instructions in performance-critical operations.\n",
      "To enable the following instructions: AVX2 FMA, in other operations, rebuild TensorFlow with the appropriate compiler flags.\n",
      "2024-02-29 05:40:51.976645: W tensorflow/compiler/tf2tensorrt/utils/py_utils.cc:38] TF-TRT Warning: Could not find TensorRT\n"
     ]
    }
   ],
   "source": [
    "import numpy as np\n",
    "\n",
    "from keras.models import Sequential\n",
    "from keras.layers import LSTM, TimeDistributed, RepeatVector, Dense"
   ]
  },
  {
   "cell_type": "code",
   "execution_count": 3,
   "metadata": {},
   "outputs": [],
   "source": [
    "class CharacterTable(object):\n",
    "\tdef __init__(self, chars):\n",
    "\t\tself.chars = sorted(set(chars))\n",
    "\t\tself.char_indices = dict((c,i) for i, c in enumerate(self.chars))\n",
    "\t\tself.indices_char = dict((i,c) for i, c in enumerate(self.chars))\n",
    "\n",
    "\tdef encode(self, string, num_rows):\n",
    "\t\tx = np.zeros((num_rows, len(self.chars)))\n",
    "\t\tfor i, char in enumerate(string):\n",
    "\t\t\tif char == ' ': \n",
    "\t\t\t\tx[i, -1] = 1\n",
    "\t\t\t\tcontinue\n",
    "\t\t\tx[i, self.char_indices[char]] = 1\n",
    "\t\treturn x\n",
    "\n",
    "\tdef decode(self, x, calc_argmax=True):\n",
    "\t\tif calc_argmax:\n",
    "\t\t\tx = x.argmax(axis=-1)\n",
    "\t\treturn ''.join([self.indices_char[i] for i in x])"
   ]
  },
  {
   "cell_type": "code",
   "execution_count": 4,
   "metadata": {},
   "outputs": [],
   "source": [
    "training_size = 50000\n",
    "digits = 5\n",
    "hidden_size = 128\n",
    "batch_size = 128"
   ]
  },
  {
   "cell_type": "code",
   "execution_count": 5,
   "metadata": {},
   "outputs": [],
   "source": [
    "# This is a pattern to match against input: X+Y\n",
    "question_maxlen = digits + 1 + digits\n",
    "chars = '0123456789+- '\n",
    "\n",
    "ctable = CharacterTable(chars)\n",
    "\n",
    "questions = []\n",
    "answers = []\n",
    "expected = []\n",
    "seen = set()\n",
    "\n",
    "while len(questions) < training_size:\n",
    "\tf = lambda: int(''.join(np.random.choice(list('0123456789'))\n",
    "\t\tfor i in range(np.random.randint(1, digits+1))))\n",
    "\ta, b = f(), f()\n",
    "\n",
    "\tkey = tuple(sorted([a, b]))\n",
    "\tif key in seen:\n",
    "\t\tcontinue\n",
    "\n",
    "\tseen.add(key)\n",
    "\n",
    "\tquestion = f'{a}-{b}'\n",
    "\tpadding = ' ' * (question_maxlen - len(question))\n",
    "\n",
    "\tquestion = question + padding\n",
    "\n",
    "\tanswer = str(a - b)\n",
    "\tpadding = ' ' * (question_maxlen - len(answer))\n",
    "\n",
    "\tquestions.append(question)\n",
    "\tanswers.append(answer)"
   ]
  },
  {
   "cell_type": "code",
   "execution_count": 6,
   "metadata": {},
   "outputs": [
    {
     "data": {
      "text/plain": [
       "('13-774     ', '-761')"
      ]
     },
     "execution_count": 6,
     "metadata": {},
     "output_type": "execute_result"
    }
   ],
   "source": [
    "q, a = questions[0], answers[0]\n",
    "\n",
    "q, a"
   ]
  },
  {
   "cell_type": "code",
   "execution_count": 7,
   "metadata": {},
   "outputs": [
    {
     "data": {
      "text/plain": [
       "array([[0., 0., 0., 0., 1., 0., 0., 0., 0., 0., 0., 0., 0.],\n",
       "       [0., 0., 0., 0., 0., 0., 1., 0., 0., 0., 0., 0., 0.],\n",
       "       [0., 0., 1., 0., 0., 0., 0., 0., 0., 0., 0., 0., 0.],\n",
       "       [0., 0., 0., 0., 0., 0., 0., 0., 0., 0., 1., 0., 0.],\n",
       "       [0., 0., 0., 0., 0., 0., 0., 0., 0., 0., 1., 0., 0.],\n",
       "       [0., 0., 0., 0., 0., 0., 0., 1., 0., 0., 0., 0., 0.],\n",
       "       [0., 0., 0., 0., 0., 0., 0., 0., 0., 0., 0., 0., 1.],\n",
       "       [0., 0., 0., 0., 0., 0., 0., 0., 0., 0., 0., 0., 1.],\n",
       "       [0., 0., 0., 0., 0., 0., 0., 0., 0., 0., 0., 0., 1.],\n",
       "       [0., 0., 0., 0., 0., 0., 0., 0., 0., 0., 0., 0., 1.],\n",
       "       [0., 0., 0., 0., 0., 0., 0., 0., 0., 0., 0., 0., 1.]])"
      ]
     },
     "execution_count": 7,
     "metadata": {},
     "output_type": "execute_result"
    }
   ],
   "source": [
    "ctable.encode(q, question_maxlen)"
   ]
  },
  {
   "cell_type": "code",
   "execution_count": 8,
   "metadata": {},
   "outputs": [],
   "source": [
    "\n",
    "# Encoding\n",
    "x = np.zeros((len(questions), question_maxlen, len(chars)), dtype=bool)\n",
    "y = np.zeros((len(questions), digits + 1, len(chars)), dtype=bool)\n",
    "for i, question in enumerate(questions):\n",
    "\tx[i] = ctable.encode(question, question_maxlen)\n",
    "for i, answer in enumerate(answers):\n",
    "\ty[i] = ctable.encode(answer, digits + 1)"
   ]
  },
  {
   "cell_type": "code",
   "execution_count": 9,
   "metadata": {},
   "outputs": [
    {
     "name": "stdout",
     "output_type": "stream",
     "text": [
      "(50000, 11, 13) (50000, 6, 13)\n"
     ]
    }
   ],
   "source": [
    "print(x.shape, y.shape)"
   ]
  },
  {
   "cell_type": "code",
   "execution_count": null,
   "metadata": {},
   "outputs": [],
   "source": []
  },
  {
   "cell_type": "code",
   "execution_count": 10,
   "metadata": {},
   "outputs": [
    {
     "name": "stdout",
     "output_type": "stream",
     "text": [
      "[[0 0 0 0 0 0 0 0 0 0 0]\n",
      " [0 0 0 0 0 0 0 0 0 0 0]\n",
      " [0 0 1 0 0 0 0 0 0 0 0]\n",
      " [0 0 0 0 0 0 0 0 0 0 0]\n",
      " [1 0 0 0 0 0 0 0 0 0 0]\n",
      " [0 0 0 0 0 0 0 0 0 0 0]\n",
      " [0 1 0 0 0 0 0 0 0 0 0]\n",
      " [0 0 0 0 0 1 0 0 0 0 0]\n",
      " [0 0 0 0 0 0 0 0 0 0 0]\n",
      " [0 0 0 0 0 0 0 0 0 0 0]\n",
      " [0 0 0 1 1 0 0 0 0 0 0]\n",
      " [0 0 0 0 0 0 0 0 0 0 0]\n",
      " [0 0 0 0 0 0 1 1 1 1 1]]\n",
      "13-774     \n"
     ]
    }
   ],
   "source": [
    "print(x.astype(int)[0].T)\n",
    "print(questions[0])"
   ]
  },
  {
   "cell_type": "code",
   "execution_count": 11,
   "metadata": {},
   "outputs": [
    {
     "name": "stdout",
     "output_type": "stream",
     "text": [
      "[[0 0 0 0 0 0]\n",
      " [0 0 0 0 0 0]\n",
      " [1 0 0 0 0 0]\n",
      " [0 0 0 0 0 0]\n",
      " [0 0 0 1 0 0]\n",
      " [0 0 0 0 0 0]\n",
      " [0 0 0 0 0 0]\n",
      " [0 0 0 0 0 0]\n",
      " [0 0 0 0 0 0]\n",
      " [0 0 1 0 0 0]\n",
      " [0 1 0 0 0 0]\n",
      " [0 0 0 0 0 0]\n",
      " [0 0 0 0 0 0]]\n",
      "-761\n"
     ]
    }
   ],
   "source": [
    "print(y.astype(int)[0].T)\n",
    "print(answers[0])"
   ]
  },
  {
   "cell_type": "code",
   "execution_count": 12,
   "metadata": {},
   "outputs": [],
   "source": [
    "# Make a random shuffling of the data\n",
    "indices = np.arange(len(y))\n",
    "np.random.shuffle(indices)\n",
    "x = x[indices]\n",
    "y = y[indices]\n",
    "\n",
    "# Train test split (10% testing)\n",
    "split = len(x) - len(x)//10\n",
    "\n",
    "x_train, x_test = x[:split], x[split:]\n",
    "y_train, y_test = y[:split], y[split:]"
   ]
  },
  {
   "cell_type": "code",
   "execution_count": 13,
   "metadata": {},
   "outputs": [
    {
     "name": "stdout",
     "output_type": "stream",
     "text": [
      "Model: \"sequential\"\n",
      "_________________________________________________________________\n",
      " Layer (type)                Output Shape              Param #   \n",
      "=================================================================\n",
      " lstm (LSTM)                 (None, 100)               45600     \n",
      "                                                                 \n",
      " repeat_vector (RepeatVecto  (None, 6, 100)            0         \n",
      " r)                                                              \n",
      "                                                                 \n",
      " lstm_1 (LSTM)               (None, 6, 50)             30200     \n",
      "                                                                 \n",
      " time_distributed (TimeDist  (None, 6, 13)             663       \n",
      " ributed)                                                        \n",
      "                                                                 \n",
      "=================================================================\n",
      "Total params: 76463 (298.68 KB)\n",
      "Trainable params: 76463 (298.68 KB)\n",
      "Non-trainable params: 0 (0.00 Byte)\n",
      "_________________________________________________________________\n"
     ]
    }
   ],
   "source": [
    "model = Sequential()\n",
    "model.add(LSTM(100, input_shape=(question_maxlen, len(chars))))\n",
    "model.add(RepeatVector(digits+1))\n",
    "model.add(LSTM(50, return_sequences=True))\n",
    "model.add(TimeDistributed(Dense(len(chars), activation='softmax')))\n",
    "model.compile(loss='categorical_crossentropy',\n",
    "optimizer='adam',\n",
    "metrics=['accuracy'])\n",
    "model.summary()"
   ]
  },
  {
   "cell_type": "code",
   "execution_count": 14,
   "metadata": {},
   "outputs": [
    {
     "name": "stdout",
     "output_type": "stream",
     "text": [
      "Iteration 1\n",
      "#########################\n"
     ]
    },
    {
     "name": "stdout",
     "output_type": "stream",
     "text": [
      "352/352 [==============================] - 8s 15ms/step - loss: 1.6668 - accuracy: 0.1376 - val_loss: 1.6338 - val_accuracy: 0.1549\n",
      "Iteration 2\n",
      "#########################\n",
      "352/352 [==============================] - 5s 13ms/step - loss: 1.5501 - accuracy: 0.1685 - val_loss: 1.5121 - val_accuracy: 0.1907\n",
      "Iteration 3\n",
      "#########################\n",
      "352/352 [==============================] - 5s 13ms/step - loss: 1.4482 - accuracy: 0.2101 - val_loss: 1.4134 - val_accuracy: 0.2248\n",
      "Iteration 4\n",
      "#########################\n",
      "352/352 [==============================] - 5s 13ms/step - loss: 1.3664 - accuracy: 0.2380 - val_loss: 1.3467 - val_accuracy: 0.2504\n",
      "Iteration 5\n",
      "#########################\n",
      "352/352 [==============================] - 5s 13ms/step - loss: 1.3046 - accuracy: 0.2609 - val_loss: 1.2910 - val_accuracy: 0.2726\n",
      "Iteration 6\n",
      "#########################\n",
      "352/352 [==============================] - 5s 13ms/step - loss: 1.2553 - accuracy: 0.2827 - val_loss: 1.2508 - val_accuracy: 0.2882\n",
      "Iteration 7\n",
      "#########################\n",
      "352/352 [==============================] - 5s 13ms/step - loss: 1.2174 - accuracy: 0.2968 - val_loss: 1.2142 - val_accuracy: 0.3033\n",
      "Iteration 8\n",
      "#########################\n",
      "352/352 [==============================] - 5s 13ms/step - loss: 1.1889 - accuracy: 0.3084 - val_loss: 1.1913 - val_accuracy: 0.3096\n",
      "Iteration 9\n",
      "#########################\n",
      "352/352 [==============================] - 5s 13ms/step - loss: 1.1650 - accuracy: 0.3154 - val_loss: 1.1731 - val_accuracy: 0.3158\n"
     ]
    }
   ],
   "source": [
    "for iteration in range(1, 10):\n",
    "\tprint(f\"Iteration {iteration}\")\n",
    "\tprint('#'*25)\n",
    "\tmodel.fit(x_train, y_train,\n",
    "\t\t\tbatch_size=batch_size,\n",
    "\t\t\tepochs=1,\n",
    "\t\t\tvalidation_data=(x_test, y_test))"
   ]
  },
  {
   "cell_type": "code",
   "execution_count": 15,
   "metadata": {},
   "outputs": [
    {
     "name": "stdout",
     "output_type": "stream",
     "text": [
      "[[[0. 0. 0. 0. 1. 0. 0. 0. 0. 0. 0. 0. 0.]\n",
      "  [0. 0. 0. 0. 0. 0. 1. 0. 0. 0. 0. 0. 0.]\n",
      "  [0. 0. 1. 0. 0. 0. 0. 0. 0. 0. 0. 0. 0.]\n",
      "  [0. 0. 0. 0. 0. 0. 0. 0. 0. 0. 1. 0. 0.]\n",
      "  [0. 0. 0. 0. 0. 0. 0. 0. 0. 0. 1. 0. 0.]\n",
      "  [0. 0. 0. 0. 0. 0. 0. 1. 0. 0. 0. 0. 0.]\n",
      "  [0. 0. 0. 0. 0. 0. 0. 0. 0. 0. 0. 0. 1.]\n",
      "  [0. 0. 0. 0. 0. 0. 0. 0. 0. 0. 0. 0. 1.]\n",
      "  [0. 0. 0. 0. 0. 0. 0. 0. 0. 0. 0. 0. 1.]\n",
      "  [0. 0. 0. 0. 0. 0. 0. 0. 0. 0. 0. 0. 1.]\n",
      "  [0. 0. 0. 0. 0. 0. 0. 0. 0. 0. 0. 0. 1.]]]\n"
     ]
    },
    {
     "name": "stdout",
     "output_type": "stream",
     "text": [
      "1/1 [==============================] - 1s 515ms/step\n",
      "-761  \n",
      "-76029\n"
     ]
    }
   ],
   "source": [
    "question_demo = q\n",
    "answer_demo = a\n",
    "x_demo = np.array([ctable.encode(question_demo, question_maxlen)])\n",
    "y_demo = np.array([ctable.encode(answer_demo, digits + 1)])\n",
    "print(x_demo)\n",
    "prediction = model.predict(x_demo)\n",
    "prediction = np.argmax(prediction, axis=-1)\n",
    "# print(y_demo, prediction)\n",
    "# print(y_demo.shape, prediction.shape)\n",
    "\n",
    "correct = ctable.decode(y_demo[0])\n",
    "print(correct)\n",
    "\n",
    "guess = ctable.decode(prediction[0], calc_argmax=False)\n",
    "print(guess)\n",
    "# print(ctable.decode(y_demo), ctable.decode(prediction))\n",
    "\n",
    "# rowx, rowy = x_test[np.array([0])], y_test[np.array([0])]\n",
    "# print(rowx.shape, rowy.shape)\n",
    "# print(x_demo.shape, y_demo.shape)\n",
    "# # preds = model.predict_classes(rowx, verbose=0)\n",
    "# preds = model.predict(rowx, verbose=0)\n",
    "# preds = np.argmax(preds, axis=-1)\n",
    "\n",
    "# question = ctable.decode(rowx[0])\n",
    "# correct = ctable.decode(rowy[0])\n",
    "# guess = ctable.decode(preds[0], calc_argmax=False)\n",
    "\n",
    "# question, correct, guess"
   ]
  },
  {
   "cell_type": "code",
   "execution_count": null,
   "metadata": {},
   "outputs": [],
   "source": []
  },
  {
   "cell_type": "code",
   "execution_count": null,
   "metadata": {},
   "outputs": [],
   "source": []
  }
 ],
 "metadata": {
  "kernelspec": {
   "display_name": "Python 3",
   "language": "python",
   "name": "python3"
  },
  "language_info": {
   "codemirror_mode": {
    "name": "ipython",
    "version": 3
   },
   "file_extension": ".py",
   "mimetype": "text/x-python",
   "name": "python",
   "nbconvert_exporter": "python",
   "pygments_lexer": "ipython3",
   "version": "3.10.13"
  }
 },
 "nbformat": 4,
 "nbformat_minor": 2
}
